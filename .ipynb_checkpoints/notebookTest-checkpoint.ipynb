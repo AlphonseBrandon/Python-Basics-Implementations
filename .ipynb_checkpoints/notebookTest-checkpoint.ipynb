{
 "cells": [
  {
   "cell_type": "markdown",
   "metadata": {},
   "source": [
    "RANDOM PASSWORD GENERATOR"
   ]
  },
  {
   "cell_type": "markdown",
   "metadata": {},
   "source": [
    "Import modules"
   ]
  },
  {
   "cell_type": "code",
   "execution_count": 4,
   "metadata": {},
   "outputs": [],
   "source": [
    "import random\n",
    "import string"
   ]
  },
  {
   "cell_type": "markdown",
   "metadata": {},
   "source": [
    "Using a function"
   ]
  },
  {
   "cell_type": "code",
   "execution_count": 2,
   "metadata": {},
   "outputs": [
    {
     "name": "stdout",
     "output_type": "stream",
     "text": [
      "First random password is )6fQ;Y0\n",
      "Second random password is E7wA/+6\n"
     ]
    }
   ],
   "source": [
    "import random\n",
    "import string\n",
    "\n",
    "def get_random_password():\n",
    "    random_source = string.ascii_letters + string.digits + string.punctuation\n",
    "\n",
    "\n",
    "    # selecting 1 lowercase\n",
    "    for i in range(2):\n",
    "        password = random.choice(string.ascii_lowercase)\n",
    "\n",
    "\n",
    "    # Selecting 1 uppercase\n",
    "    for i in range(2):\n",
    "        password += random.choice(string.ascii_uppercase)\n",
    "\n",
    "\n",
    "    # selecting 1 digit\n",
    "    for i in range(3):\n",
    "        password += random.choice(string.digits)\n",
    "    \n",
    "\n",
    "    # selecting 1 special symbol\n",
    "    for i in range(3):\n",
    "        password += random.choice(string.punctuation)\n",
    "    \n",
    "\n",
    "    #place password in a list\n",
    "    password_list = list(password)\n",
    "\n",
    "\n",
    "    # Shuffle all characters\n",
    "    random.SystemRandom().shuffle(password_list)\n",
    "\n",
    "    password = ''.join(password_list)\n",
    "\n",
    "    return password\n",
    "\n",
    "\n",
    "print(\"First random password is\", get_random_password())\n",
    "\n",
    "\n",
    "# second random password\n",
    "print(\"Second random password is\",get_random_password())"
   ]
  },
  {
   "cell_type": "markdown",
   "metadata": {},
   "source": [
    "Generate the password"
   ]
  },
  {
   "cell_type": "code",
   "execution_count": 6,
   "metadata": {},
   "outputs": [
    {
     "name": "stdout",
     "output_type": "stream",
     "text": [
      "First random password is <function get_random_password at 0x7f9994595700>\n",
      "Second random password is <function get_random_password at 0x7f9994595700>\n"
     ]
    }
   ],
   "source": [
    "print(\"First random password is\", get_random_password)\n",
    "\n",
    "\n",
    "# second random password\n",
    "print(\"Second random password is\",get_random_password)"
   ]
  }
 ],
 "metadata": {
  "interpreter": {
   "hash": "916dbcbb3f70747c44a77c7bcd40155683ae19c65e1c03b4aa3499c5328201f1"
  },
  "kernelspec": {
   "display_name": "Python 3",
   "language": "python",
   "name": "python3"
  },
  "language_info": {
   "codemirror_mode": {
    "name": "ipython",
    "version": 3
   },
   "file_extension": ".py",
   "mimetype": "text/x-python",
   "name": "python",
   "nbconvert_exporter": "python",
   "pygments_lexer": "ipython3",
   "version": "3.7.6"
  }
 },
 "nbformat": 4,
 "nbformat_minor": 2
}
